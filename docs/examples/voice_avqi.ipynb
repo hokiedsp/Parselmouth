{
 "metadata": {
  "language_info": {
   "codemirror_mode": {
    "name": "ipython",
    "version": 3
   },
   "file_extension": ".py",
   "mimetype": "text/x-python",
   "name": "python",
   "nbconvert_exporter": "python",
   "pygments_lexer": "ipython3",
   "version": "3.8.5-final"
  },
  "orig_nbformat": 2,
  "kernelspec": {
   "name": "python3",
   "display_name": "Python 3.8.5 64-bit (conda)",
   "metadata": {
    "interpreter": {
     "hash": "2572f3c21b7ff02491e3acc94f455f3b5b888a72304f11d633edd03cb5ec7295"
    }
   }
  }
 },
 "nbformat": 4,
 "nbformat_minor": 2,
 "cells": [
  {
   "source": [
    "# Measuring Acoustic Voice Quality Index (AVQI)\n"
   ],
   "cell_type": "markdown",
   "metadata": {}
  },
  {
   "source": [
    "The Parselmouth `voice_analysis.ipynb` (link?) example illustrated how you can use Parselmouth to reproduce Praat's Voice Report in Python. Praat actually can compute other voice related measures: perhaps the most important one, the cepstral peak prominence. This useful feature is somewhat buried in Praat's GUI, but you can compute it easily using Parselmouth.\n",
    "\n",
    "In this example, we follow the Praat script put together by Youri Maryn and David Weenink for their publication:\n",
    "\n",
    "> Y. Maryn and D. Weenink, “Objective dysphonia measures in the program Praat: Smoothed cepstral peak prominence and acoustic voice quality index,Journal of Voice, vol. 29, no. 1, pp. 35–43, Jan. 2015, doi: 10.1016/j.jvoice.2014.06.015.\n",
    "\n",
    "And compute cepstral peak prominence and acoustic voice quality index measures of our sample acoustic data."
   ],
   "cell_type": "markdown",
   "metadata": {}
  },
  {
   "source": [
    "## Step 0. Get necessary packages\n",
    "\n",
    "We start out by importing parselmouth and other Python packages"
   ],
   "cell_type": "markdown",
   "metadata": {}
  },
  {
   "cell_type": "code",
   "execution_count": null,
   "metadata": {},
   "outputs": [],
   "source": [
    "import parselmouth\n",
    "\n",
    "import numpy as np\n",
    "import matplotlib.pyplot as plt"
   ]
  },
  {
   "source": [
    "## Step 1. Read the acoustic data and remove unvoiced samples\n",
    "\n",
    "Fist thing to do is to open and read in the audio file and then only use the voiced samples."
   ],
   "cell_type": "markdown",
   "metadata": {}
  },
  {
   "cell_type": "code",
   "execution_count": null,
   "metadata": {},
   "outputs": [],
   "source": [
    "# Load acoustic data from the WAV file\n",
    "wavfile = \"docs/examples/audio/the_north_wind_and_the_sun.wav\"\n",
    "cv = parselmouth.Sound(wavfile)\n",
    "\n",
    "# plot the original\n",
    "plt.figure()\n",
    "plt.plot(cv.xs(), cv.values.T)\n",
    "plt.axvline(cv.xmin,ls=\":\",c=\"tab:red\")\n",
    "plt.axvline(cv.xmax,ls=\":\",c=\"tab:red\")\n",
    "plt.xlim((cv.xmin, cv.xmax))\n",
    "plt.xlabel(\"time [s]\")\n",
    "plt.ylabel(\"amplitude\")\n",
    "plt.title(\"Original waveform\")\n",
    "\n",
    "\n",
    "def truncate_unvoiced(cv):\n",
    "\n",
    "    # analyze pitch with Praat\n",
    "    pitch = cv.to_pitch_cc(None,75,15,False, 0.03, 0.45, 0.01, 0.35, 0.14, 600) # To Pitch (cc)... 0 75 15 no 0.03 0.45 0.01 0.35 0.14 600\n",
    "    f0 = pitch.selected_array['frequency'] # get the f0 estimates as an array\n",
    "    fs = 1/cv.dt # sample rate\n",
    "\n",
    "    # remove unvoiced samples (if unvoiced, f0 is 0)\n",
    "    voiced = f0>0.0 # True if frame is voiced\n",
    "    N = len(voiced)\n",
    "    mask = np.ones(len(cv),dtype=bool) # true to keep the corresponding sound sample\n",
    "    dt = pitch.dt # pitch frame time offset\n",
    "    i0 = next((j for j in range(N) if not voiced[j]),N) if voiced[0] else 0\n",
    "    while i0<N: # i0 initialized to the beginning of the first unvoiced segment \n",
    "        n0 = int(i0*dt*fs)\n",
    "\n",
    "        # find the end of unvoiced segment\n",
    "        i = next((j for j in range(i0+1,N) if voiced[j]),N)\n",
    "        if i<N:\n",
    "            n = int(i*dt*fs)\n",
    "            mask[n0:n] = False\n",
    "            i0 = next((j for j in range(i+1,N) if not voiced[j]),N)\n",
    "        else: # last segment\n",
    "            mask[n0:] = False\n",
    "            i0 = i\n",
    "\n",
    "    # return the new sound object\n",
    "    return parselmouth.Sound(cv.values[:,mask],fs)\n",
    "\n",
    "sound = truncate_unvoiced(cv)\n",
    "fs = 1/sound.dt # sample rate\n",
    "\n",
    "# Plot the waveform and analysis window\n",
    "plt.figure()\n",
    "plt.plot(sound.xs(), sound.values.T)\n",
    "plt.axvline(sound.xmin,ls=\":\",c=\"tab:red\")\n",
    "plt.axvline(sound.xmax,ls=\":\",c=\"tab:red\")\n",
    "plt.xlim((sound.xmin, sound.xmax))\n",
    "plt.xlabel(\"time [s]\")\n",
    "plt.ylabel(\"amplitude\")\n",
    "plt.title(\"waveform with unvoiced samples removed\")\n",
    "plt.show()\n"
   ]
  },
  {
   "cell_type": "code",
   "execution_count": null,
   "metadata": {},
   "outputs": [],
   "source": [
    "spectrogram = sound.to_spectrogram(0.03, 4000, 0.002, 20, \"GAUSSIAN\") # To Spectrogram... 0.03 4000 0.002 20 Gaussian\n",
    "pitch = sound.to_pitch_cc(None,75,15,False,0.03,0.45,0.01,0.35,0.14) # To Pitch (cc)... 0 75 15 no 0.03 0.45 0.01 0.35 0.14 600\n",
    "pulses = sound.to_point_process_periodic(50,400) # To PointProcess (periodic, cc)... 50 400\"\n",
    "ltas = sound.to_ltas(100) # To Ltas... 1 <- typo by Maryn???\n",
    "powercepstrogram = sound.to_power_cepstrogram(60,0.002,5000,50) # To PowerCepstrogram... 60 0.002 5000 50\n",
    "powercepstrum = powercepstrogram.to_power_cepstrum(0.1) # To PowerCepstrum (slice)... 0.1\n"
   ]
  },
  {
   "cell_type": "code",
   "execution_count": null,
   "metadata": {},
   "outputs": [],
   "source": [
    "plt.figure()\n",
    "plt.pcolormesh(spectrogram.x_grid(), spectrogram.y_grid(), 10 * np.log10(spectrogram.values), cmap='afmhot')\n",
    "plt.ylim([spectrogram.ymin, spectrogram.ymax])\n",
    "plt.xlabel(\"time [s]\")\n",
    "plt.ylabel(\"frequency [Hz]\")\n",
    "\n",
    "plt.figure()\n",
    "plt.plot(ltas.xs(),ltas.values.T)\n",
    "plt.xlim((0,len(ltas)*ltas.get_bin_width()))\n",
    "plt.xlabel(\"Frequency (Hz)\")\n",
    "plt.ylabel(\"Sound pressure level (dB/Hz)\")\n",
    "\n",
    "plt.figure()\n",
    "plt.pcolormesh(powercepstrogram.x_grid(), powercepstrogram.y_grid(), 10 * np.log10(powercepstrogram.values), cmap='afmhot')\n",
    "plt.ylim((0.00303, 0.01667))\n",
    "plt.ylabel(\"Quefrency (s)\")\n",
    "plt.xlabel(\"Time (s)\")\n",
    "\n",
    "# select PowerCepstrum avqi_0_100\n",
    "plt.figure()\n",
    "plt.plot(powercepstrum.xs(),10*np.log10(powercepstrum.values.T))\n",
    "plt.xlim((0,powercepstrum.xmax))\n",
    "plt.xlabel(\"Quefrency (s)\")\n",
    "plt.ylabel(\"Amplitude (dB)\")\n",
    "plt.show()\n"
   ]
  },
  {
   "cell_type": "code",
   "execution_count": null,
   "metadata": {},
   "outputs": [],
   "source": [
    "cpps = powercepstrogram.get_cpps(False,0.01,0.001,60,330,0.05,\"PARABOLIC\",0.001,0,\"STRAIGHT\",\"ROBUST\") # Get CPPS... no 0.01 0.001 60 330 0.05 \n",
    "print(f\"Smoothed cepstral peak prominence (CPPS)={cpps:.2f}\")\n",
    "\n",
    "hnr = pitch.get_mean_strength('hnr_db', 0,0)\n",
    "print(f\"Harmonics-to-noise ratio={hnr:.2f} dB\")\n",
    "\n",
    "percentShimmer = pulses.get_shimmer_local(sound,0,0,0.0001,0.02,1.3,1.6) # Get shimmer (local)... 0 0 0.0001 0.02 1.3 1.6\n",
    "shim = percentShimmer*100\n",
    "shdb = pulses.get_shimmer_local_db(sound,0, 0, 0.0001, 0.02, 1.3, 1.6) # Get shimmer (local_dB)... 0 0 0.0001 0.02 1.3 1.6\n",
    "print(f\"Shimmer local={shim:.2f}%\")\n",
    "print(f\"Shimmer local dB={shdb:.2f} dB\")\n",
    "\n",
    "slope = ltas.get_slope(0,1000,1000,10000,\"ENERGY\") # Get slope... 0 1000 1000 10000 energy\n",
    "ltas.compute_trend_line(1,10000) # Compute trend line... 1 10000\n",
    "tilt = ltas.get_slope(0,1000,1000,10000,\"ENERGY\") # Get slope... 0 1000 1000 10000 energy\n",
    "\n",
    "print(f\"Slope of LTAS={slope:.2f} dB\")\n",
    "print(f\"Tilt of trendline through LTAS={tilt:.2f} dB\")\n",
    "\n",
    "avqi = 9.072-0.245*cpps-0.161*hnr-0.470*shim+6.158*shdb-0.071*slope+0.170*tilt\n",
    "print(f\"AVQI={avqi:.2f}\")\n"
   ]
  }
 ]
}